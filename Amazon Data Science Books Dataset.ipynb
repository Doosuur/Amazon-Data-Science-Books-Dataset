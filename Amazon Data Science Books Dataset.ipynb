{
 "cells": [
  {
   "cell_type": "code",
   "execution_count": 1,
   "id": "d1b77404",
   "metadata": {},
   "outputs": [],
   "source": [
    "import pandas as pd\n",
    "import numpy as np\n",
    "from datetime import datetime"
   ]
  },
  {
   "cell_type": "code",
   "execution_count": 2,
   "id": "b56ea1c1",
   "metadata": {},
   "outputs": [
    {
     "data": {
      "text/html": [
       "<div>\n",
       "<style scoped>\n",
       "    .dataframe tbody tr th:only-of-type {\n",
       "        vertical-align: middle;\n",
       "    }\n",
       "\n",
       "    .dataframe tbody tr th {\n",
       "        vertical-align: top;\n",
       "    }\n",
       "\n",
       "    .dataframe thead th {\n",
       "        text-align: right;\n",
       "    }\n",
       "</style>\n",
       "<table border=\"1\" class=\"dataframe\">\n",
       "  <thead>\n",
       "    <tr style=\"text-align: right;\">\n",
       "      <th></th>\n",
       "      <th>title</th>\n",
       "      <th>author</th>\n",
       "      <th>price</th>\n",
       "      <th>price (including used books)</th>\n",
       "      <th>pages</th>\n",
       "      <th>avg_reviews</th>\n",
       "      <th>n_reviews</th>\n",
       "      <th>star5</th>\n",
       "      <th>star4</th>\n",
       "      <th>star3</th>\n",
       "      <th>star2</th>\n",
       "      <th>star1</th>\n",
       "      <th>dimensions</th>\n",
       "      <th>weight</th>\n",
       "      <th>language</th>\n",
       "      <th>publisher</th>\n",
       "      <th>ISBN_13</th>\n",
       "      <th>link</th>\n",
       "      <th>complete_link</th>\n",
       "    </tr>\n",
       "  </thead>\n",
       "  <tbody>\n",
       "    <tr>\n",
       "      <th>0</th>\n",
       "      <td>Data Analysis Using R (Low Priced Edition): A ...</td>\n",
       "      <td>[ Dr Dhaval Maheta]</td>\n",
       "      <td>6.75</td>\n",
       "      <td>6.75</td>\n",
       "      <td>500</td>\n",
       "      <td>4.4</td>\n",
       "      <td>23</td>\n",
       "      <td>55%</td>\n",
       "      <td>39%</td>\n",
       "      <td>6%</td>\n",
       "      <td>NaN</td>\n",
       "      <td>NaN</td>\n",
       "      <td>8.5 x 1.01 x 11 inches</td>\n",
       "      <td>2.53 pounds</td>\n",
       "      <td>English</td>\n",
       "      <td>Notion Press Media Pvt Ltd (November 22, 2021)</td>\n",
       "      <td>978-1685549596</td>\n",
       "      <td>/Data-Analysis-Using-Low-Priced/dp/1685549594/...</td>\n",
       "      <td>https://www.amazon.com/Data-Analysis-Using-Low...</td>\n",
       "    </tr>\n",
       "    <tr>\n",
       "      <th>1</th>\n",
       "      <td>Head First Data Analysis: A learner's guide to...</td>\n",
       "      <td>NaN</td>\n",
       "      <td>33.72</td>\n",
       "      <td>21.49 - 33.72</td>\n",
       "      <td>484</td>\n",
       "      <td>4.3</td>\n",
       "      <td>124</td>\n",
       "      <td>61%</td>\n",
       "      <td>20%</td>\n",
       "      <td>9%</td>\n",
       "      <td>4%</td>\n",
       "      <td>6%</td>\n",
       "      <td>8 x 0.98 x 9.25 inches</td>\n",
       "      <td>1.96 pounds</td>\n",
       "      <td>English</td>\n",
       "      <td>O'Reilly Media; 1st edition (August 18, 2009)</td>\n",
       "      <td>978-0596153939</td>\n",
       "      <td>/Head-First-Data-Analysis-statistics/dp/059615...</td>\n",
       "      <td>https://www.amazon.com/Head-First-Data-Analysi...</td>\n",
       "    </tr>\n",
       "    <tr>\n",
       "      <th>2</th>\n",
       "      <td>Guerrilla Data Analysis Using Microsoft Excel:...</td>\n",
       "      <td>[ Oz du Soleil,  and , Bill Jelen]</td>\n",
       "      <td>32.07</td>\n",
       "      <td>32.07</td>\n",
       "      <td>274</td>\n",
       "      <td>4.7</td>\n",
       "      <td>10</td>\n",
       "      <td>87%</td>\n",
       "      <td>13%</td>\n",
       "      <td>NaN</td>\n",
       "      <td>NaN</td>\n",
       "      <td>NaN</td>\n",
       "      <td>8.25 x 0.6 x 10.75 inches</td>\n",
       "      <td>1.4 pounds</td>\n",
       "      <td>English</td>\n",
       "      <td>Holy Macro! Books; Third edition (August 1, 2022)</td>\n",
       "      <td>978-1615470747</td>\n",
       "      <td>/Guerrilla-Analysis-Using-Microsoft-Excel/dp/1...</td>\n",
       "      <td>https://www.amazon.com/Guerrilla-Analysis-Usin...</td>\n",
       "    </tr>\n",
       "    <tr>\n",
       "      <th>3</th>\n",
       "      <td>Python for Data Analysis: Data Wrangling with ...</td>\n",
       "      <td>[ William McKinney]</td>\n",
       "      <td>53.99</td>\n",
       "      <td>53.99</td>\n",
       "      <td>547</td>\n",
       "      <td>4.6</td>\n",
       "      <td>1,686</td>\n",
       "      <td>75%</td>\n",
       "      <td>16%</td>\n",
       "      <td>5%</td>\n",
       "      <td>2%</td>\n",
       "      <td>2%</td>\n",
       "      <td>7 x 1.11 x 9.19 inches</td>\n",
       "      <td>1.47 pounds</td>\n",
       "      <td>English</td>\n",
       "      <td>O'Reilly Media; 2nd edition (November 14, 2017)</td>\n",
       "      <td>978-1491957660</td>\n",
       "      <td>/Python-Data-Analysis-Wrangling-IPython/dp/149...</td>\n",
       "      <td>https://www.amazon.com/Python-Data-Analysis-Wr...</td>\n",
       "    </tr>\n",
       "    <tr>\n",
       "      <th>4</th>\n",
       "      <td>Excel Data Analysis For Dummies (For Dummies (...</td>\n",
       "      <td>[ Paul McFedries]</td>\n",
       "      <td>24.49</td>\n",
       "      <td>24.49</td>\n",
       "      <td>368</td>\n",
       "      <td>3.9</td>\n",
       "      <td>12</td>\n",
       "      <td>52%</td>\n",
       "      <td>17%</td>\n",
       "      <td>10%</td>\n",
       "      <td>10%</td>\n",
       "      <td>10%</td>\n",
       "      <td>7.38 x 0.83 x 9.25 inches</td>\n",
       "      <td>1.3 pounds</td>\n",
       "      <td>English</td>\n",
       "      <td>For Dummies; 5th edition (February 3, 2022)</td>\n",
       "      <td>978-1119844426</td>\n",
       "      <td>/Excel-Data-Analysis-Dummies-Computer/dp/11198...</td>\n",
       "      <td>https://www.amazon.com/Excel-Data-Analysis-Dum...</td>\n",
       "    </tr>\n",
       "  </tbody>\n",
       "</table>\n",
       "</div>"
      ],
      "text/plain": [
       "                                               title  \\\n",
       "0  Data Analysis Using R (Low Priced Edition): A ...   \n",
       "1  Head First Data Analysis: A learner's guide to...   \n",
       "2  Guerrilla Data Analysis Using Microsoft Excel:...   \n",
       "3  Python for Data Analysis: Data Wrangling with ...   \n",
       "4  Excel Data Analysis For Dummies (For Dummies (...   \n",
       "\n",
       "                               author  price price (including used books)  \\\n",
       "0                 [ Dr Dhaval Maheta]   6.75                         6.75   \n",
       "1                                 NaN  33.72               21.49 - 33.72    \n",
       "2  [ Oz du Soleil,  and , Bill Jelen]  32.07                        32.07   \n",
       "3                 [ William McKinney]  53.99                        53.99   \n",
       "4                   [ Paul McFedries]  24.49                        24.49   \n",
       "\n",
       "  pages  avg_reviews n_reviews star5 star4 star3 star2 star1  \\\n",
       "0   500          4.4        23   55%   39%    6%   NaN   NaN   \n",
       "1   484          4.3       124   61%   20%    9%    4%    6%   \n",
       "2   274          4.7        10   87%   13%   NaN   NaN   NaN   \n",
       "3   547          4.6     1,686   75%   16%    5%    2%    2%   \n",
       "4   368          3.9        12   52%   17%   10%   10%   10%   \n",
       "\n",
       "                  dimensions       weight language  \\\n",
       "0     8.5 x 1.01 x 11 inches  2.53 pounds  English   \n",
       "1     8 x 0.98 x 9.25 inches  1.96 pounds  English   \n",
       "2  8.25 x 0.6 x 10.75 inches   1.4 pounds  English   \n",
       "3     7 x 1.11 x 9.19 inches  1.47 pounds  English   \n",
       "4  7.38 x 0.83 x 9.25 inches   1.3 pounds  English   \n",
       "\n",
       "                                           publisher         ISBN_13  \\\n",
       "0     Notion Press Media Pvt Ltd (November 22, 2021)  978-1685549596   \n",
       "1      O'Reilly Media; 1st edition (August 18, 2009)  978-0596153939   \n",
       "2  Holy Macro! Books; Third edition (August 1, 2022)  978-1615470747   \n",
       "3    O'Reilly Media; 2nd edition (November 14, 2017)  978-1491957660   \n",
       "4        For Dummies; 5th edition (February 3, 2022)  978-1119844426   \n",
       "\n",
       "                                                link  \\\n",
       "0  /Data-Analysis-Using-Low-Priced/dp/1685549594/...   \n",
       "1  /Head-First-Data-Analysis-statistics/dp/059615...   \n",
       "2  /Guerrilla-Analysis-Using-Microsoft-Excel/dp/1...   \n",
       "3  /Python-Data-Analysis-Wrangling-IPython/dp/149...   \n",
       "4  /Excel-Data-Analysis-Dummies-Computer/dp/11198...   \n",
       "\n",
       "                                       complete_link  \n",
       "0  https://www.amazon.com/Data-Analysis-Using-Low...  \n",
       "1  https://www.amazon.com/Head-First-Data-Analysi...  \n",
       "2  https://www.amazon.com/Guerrilla-Analysis-Usin...  \n",
       "3  https://www.amazon.com/Python-Data-Analysis-Wr...  \n",
       "4  https://www.amazon.com/Excel-Data-Analysis-Dum...  "
      ]
     },
     "execution_count": 2,
     "metadata": {},
     "output_type": "execute_result"
    }
   ],
   "source": [
    "#Load the dataset\n",
    "df = pd.read_csv('final_book_dataset_kaggle2.csv')\n",
    "df.head()"
   ]
  },
  {
   "cell_type": "markdown",
   "id": "3bbc796a",
   "metadata": {},
   "source": [
    "### Checking basic info"
   ]
  },
  {
   "cell_type": "code",
   "execution_count": 3,
   "id": "483b5b19",
   "metadata": {},
   "outputs": [
    {
     "data": {
      "text/plain": [
       "Index(['title', 'author', 'price', 'price (including used books)', 'pages',\n",
       "       'avg_reviews', 'n_reviews', 'star5', 'star4', 'star3', 'star2', 'star1',\n",
       "       'dimensions', 'weight', 'language', 'publisher', 'ISBN_13', 'link',\n",
       "       'complete_link'],\n",
       "      dtype='object')"
      ]
     },
     "execution_count": 3,
     "metadata": {},
     "output_type": "execute_result"
    }
   ],
   "source": [
    "df.columns"
   ]
  },
  {
   "cell_type": "code",
   "execution_count": 4,
   "id": "1f44f6ba",
   "metadata": {},
   "outputs": [
    {
     "name": "stdout",
     "output_type": "stream",
     "text": [
      "<class 'pandas.core.frame.DataFrame'>\n",
      "RangeIndex: 830 entries, 0 to 829\n",
      "Data columns (total 19 columns):\n",
      " #   Column                        Non-Null Count  Dtype  \n",
      "---  ------                        --------------  -----  \n",
      " 0   title                         830 non-null    object \n",
      " 1   author                        657 non-null    object \n",
      " 2   price                         722 non-null    float64\n",
      " 3   price (including used books)  722 non-null    object \n",
      " 4   pages                         745 non-null    object \n",
      " 5   avg_reviews                   702 non-null    float64\n",
      " 6   n_reviews                     702 non-null    object \n",
      " 7   star5                         702 non-null    object \n",
      " 8   star4                         635 non-null    object \n",
      " 9   star3                         554 non-null    object \n",
      " 10  star2                         451 non-null    object \n",
      " 11  star1                         328 non-null    object \n",
      " 12  dimensions                    644 non-null    object \n",
      " 13  weight                        651 non-null    object \n",
      " 14  language                      759 non-null    object \n",
      " 15  publisher                     714 non-null    object \n",
      " 16  ISBN_13                       665 non-null    object \n",
      " 17  link                          830 non-null    object \n",
      " 18  complete_link                 830 non-null    object \n",
      "dtypes: float64(2), object(17)\n",
      "memory usage: 123.3+ KB\n"
     ]
    }
   ],
   "source": [
    "df.info()"
   ]
  },
  {
   "cell_type": "code",
   "execution_count": 5,
   "id": "d42f4d4c",
   "metadata": {},
   "outputs": [
    {
     "data": {
      "text/plain": [
       "title                             0\n",
       "author                          173\n",
       "price                           108\n",
       "price (including used books)    108\n",
       "pages                            85\n",
       "avg_reviews                     128\n",
       "n_reviews                       128\n",
       "star5                           128\n",
       "star4                           195\n",
       "star3                           276\n",
       "star2                           379\n",
       "star1                           502\n",
       "dimensions                      186\n",
       "weight                          179\n",
       "language                         71\n",
       "publisher                       116\n",
       "ISBN_13                         165\n",
       "link                              0\n",
       "complete_link                     0\n",
       "dtype: int64"
      ]
     },
     "execution_count": 5,
     "metadata": {},
     "output_type": "execute_result"
    }
   ],
   "source": [
    "df.isnull().sum()"
   ]
  },
  {
   "cell_type": "code",
   "execution_count": 6,
   "id": "30800576",
   "metadata": {},
   "outputs": [
    {
     "data": {
      "text/html": [
       "<div>\n",
       "<style scoped>\n",
       "    .dataframe tbody tr th:only-of-type {\n",
       "        vertical-align: middle;\n",
       "    }\n",
       "\n",
       "    .dataframe tbody tr th {\n",
       "        vertical-align: top;\n",
       "    }\n",
       "\n",
       "    .dataframe thead th {\n",
       "        text-align: right;\n",
       "    }\n",
       "</style>\n",
       "<table border=\"1\" class=\"dataframe\">\n",
       "  <thead>\n",
       "    <tr style=\"text-align: right;\">\n",
       "      <th></th>\n",
       "      <th>Percent Missing</th>\n",
       "    </tr>\n",
       "  </thead>\n",
       "  <tbody>\n",
       "    <tr>\n",
       "      <th>title</th>\n",
       "      <td>0.000000</td>\n",
       "    </tr>\n",
       "    <tr>\n",
       "      <th>author</th>\n",
       "      <td>20.843373</td>\n",
       "    </tr>\n",
       "    <tr>\n",
       "      <th>price</th>\n",
       "      <td>13.012048</td>\n",
       "    </tr>\n",
       "    <tr>\n",
       "      <th>price (including used books)</th>\n",
       "      <td>13.012048</td>\n",
       "    </tr>\n",
       "    <tr>\n",
       "      <th>pages</th>\n",
       "      <td>10.240964</td>\n",
       "    </tr>\n",
       "    <tr>\n",
       "      <th>avg_reviews</th>\n",
       "      <td>15.421687</td>\n",
       "    </tr>\n",
       "    <tr>\n",
       "      <th>n_reviews</th>\n",
       "      <td>15.421687</td>\n",
       "    </tr>\n",
       "    <tr>\n",
       "      <th>star5</th>\n",
       "      <td>15.421687</td>\n",
       "    </tr>\n",
       "    <tr>\n",
       "      <th>star4</th>\n",
       "      <td>23.493976</td>\n",
       "    </tr>\n",
       "    <tr>\n",
       "      <th>star3</th>\n",
       "      <td>33.253012</td>\n",
       "    </tr>\n",
       "    <tr>\n",
       "      <th>star2</th>\n",
       "      <td>45.662651</td>\n",
       "    </tr>\n",
       "    <tr>\n",
       "      <th>star1</th>\n",
       "      <td>60.481928</td>\n",
       "    </tr>\n",
       "    <tr>\n",
       "      <th>dimensions</th>\n",
       "      <td>22.409639</td>\n",
       "    </tr>\n",
       "    <tr>\n",
       "      <th>weight</th>\n",
       "      <td>21.566265</td>\n",
       "    </tr>\n",
       "    <tr>\n",
       "      <th>language</th>\n",
       "      <td>8.554217</td>\n",
       "    </tr>\n",
       "    <tr>\n",
       "      <th>publisher</th>\n",
       "      <td>13.975904</td>\n",
       "    </tr>\n",
       "    <tr>\n",
       "      <th>ISBN_13</th>\n",
       "      <td>19.879518</td>\n",
       "    </tr>\n",
       "    <tr>\n",
       "      <th>link</th>\n",
       "      <td>0.000000</td>\n",
       "    </tr>\n",
       "    <tr>\n",
       "      <th>complete_link</th>\n",
       "      <td>0.000000</td>\n",
       "    </tr>\n",
       "  </tbody>\n",
       "</table>\n",
       "</div>"
      ],
      "text/plain": [
       "                              Percent Missing\n",
       "title                                0.000000\n",
       "author                              20.843373\n",
       "price                               13.012048\n",
       "price (including used books)        13.012048\n",
       "pages                               10.240964\n",
       "avg_reviews                         15.421687\n",
       "n_reviews                           15.421687\n",
       "star5                               15.421687\n",
       "star4                               23.493976\n",
       "star3                               33.253012\n",
       "star2                               45.662651\n",
       "star1                               60.481928\n",
       "dimensions                          22.409639\n",
       "weight                              21.566265\n",
       "language                             8.554217\n",
       "publisher                           13.975904\n",
       "ISBN_13                             19.879518\n",
       "link                                 0.000000\n",
       "complete_link                        0.000000"
      ]
     },
     "execution_count": 6,
     "metadata": {},
     "output_type": "execute_result"
    }
   ],
   "source": [
    "#Check percentage of missing data\n",
    "missing_data = df.isnull().sum() * 100/len(df)\n",
    "percent_missing = pd.DataFrame({'Percent Missing' : missing_data})\n",
    "percent_missing "
   ]
  },
  {
   "cell_type": "code",
   "execution_count": 7,
   "id": "29ef754d",
   "metadata": {},
   "outputs": [
    {
     "data": {
      "text/plain": [
       "0"
      ]
     },
     "execution_count": 7,
     "metadata": {},
     "output_type": "execute_result"
    }
   ],
   "source": [
    "df.duplicated().sum()"
   ]
  },
  {
   "cell_type": "markdown",
   "id": "e091d66f",
   "metadata": {},
   "source": [
    "### Check Object Variables"
   ]
  },
  {
   "cell_type": "code",
   "execution_count": 8,
   "id": "8a8fe125",
   "metadata": {},
   "outputs": [
    {
     "data": {
      "text/html": [
       "<div>\n",
       "<style scoped>\n",
       "    .dataframe tbody tr th:only-of-type {\n",
       "        vertical-align: middle;\n",
       "    }\n",
       "\n",
       "    .dataframe tbody tr th {\n",
       "        vertical-align: top;\n",
       "    }\n",
       "\n",
       "    .dataframe thead th {\n",
       "        text-align: right;\n",
       "    }\n",
       "</style>\n",
       "<table border=\"1\" class=\"dataframe\">\n",
       "  <thead>\n",
       "    <tr style=\"text-align: right;\">\n",
       "      <th></th>\n",
       "      <th>title</th>\n",
       "      <th>author</th>\n",
       "      <th>price (including used books)</th>\n",
       "      <th>pages</th>\n",
       "      <th>n_reviews</th>\n",
       "      <th>star5</th>\n",
       "      <th>star4</th>\n",
       "      <th>star3</th>\n",
       "      <th>star2</th>\n",
       "      <th>star1</th>\n",
       "      <th>dimensions</th>\n",
       "      <th>weight</th>\n",
       "      <th>language</th>\n",
       "      <th>publisher</th>\n",
       "      <th>ISBN_13</th>\n",
       "      <th>link</th>\n",
       "      <th>complete_link</th>\n",
       "    </tr>\n",
       "  </thead>\n",
       "  <tbody>\n",
       "    <tr>\n",
       "      <th>792</th>\n",
       "      <td>Mastering PostgreSQL 13: Build, administer, an...</td>\n",
       "      <td>[ Hans-Jurgen Schonig]</td>\n",
       "      <td>41.99</td>\n",
       "      <td>476</td>\n",
       "      <td>38</td>\n",
       "      <td>65%</td>\n",
       "      <td>12%</td>\n",
       "      <td>12%</td>\n",
       "      <td>8%</td>\n",
       "      <td>4%</td>\n",
       "      <td>7.5 x 1.08 x 9.25 inches</td>\n",
       "      <td>1.79 pounds</td>\n",
       "      <td>English</td>\n",
       "      <td>Packt Publishing; 4th ed. edition (November 13...</td>\n",
       "      <td></td>\n",
       "      <td>/gp/slredirect/picassoRedirect.html/ref=pa_sp_...</td>\n",
       "      <td>https://www.amazon.com/gp/slredirect/picassoRe...</td>\n",
       "    </tr>\n",
       "    <tr>\n",
       "      <th>605</th>\n",
       "      <td>Continuous Delivery with Docker and Jenkins: C...</td>\n",
       "      <td>[ Rafal Leszko]</td>\n",
       "      <td>46.99</td>\n",
       "      <td>350</td>\n",
       "      <td>80</td>\n",
       "      <td>60%</td>\n",
       "      <td>28%</td>\n",
       "      <td>10%</td>\n",
       "      <td>2%</td>\n",
       "      <td>NaN</td>\n",
       "      <td>7.5 x 0.79 x 9.25 inches</td>\n",
       "      <td>1.33 pounds</td>\n",
       "      <td>English</td>\n",
       "      <td>Packt Publishing; 2nd edition (May 31, 2019)</td>\n",
       "      <td>978-1838552183</td>\n",
       "      <td>/gp/slredirect/picassoRedirect.html/ref=pa_sp_...</td>\n",
       "      <td>https://www.amazon.com/gp/slredirect/picassoRe...</td>\n",
       "    </tr>\n",
       "    <tr>\n",
       "      <th>709</th>\n",
       "      <td>Big Data Science in Finance</td>\n",
       "      <td>[ Irene Aldridge,  and , Marco Avellaneda]</td>\n",
       "      <td>67.41 - 75.83</td>\n",
       "      <td>336</td>\n",
       "      <td>11</td>\n",
       "      <td>56%</td>\n",
       "      <td>20%</td>\n",
       "      <td>12%</td>\n",
       "      <td>12%</td>\n",
       "      <td>NaN</td>\n",
       "      <td>7.3 x 1 x 10.2 inches</td>\n",
       "      <td>1.87 pounds</td>\n",
       "      <td>English</td>\n",
       "      <td>Wiley; 1st edition (January 27, 2021)</td>\n",
       "      <td></td>\n",
       "      <td>/Data-Science-Finance-Irene-Aldridge/dp/111960...</td>\n",
       "      <td>https://www.amazon.com/Data-Science-Finance-Ir...</td>\n",
       "    </tr>\n",
       "    <tr>\n",
       "      <th>264</th>\n",
       "      <td>Excel: The Complete Illustrative Guide for Beg...</td>\n",
       "      <td>[ Nigel Tillery]</td>\n",
       "      <td>18.86</td>\n",
       "      <td>119</td>\n",
       "      <td>298</td>\n",
       "      <td>66%</td>\n",
       "      <td>20%</td>\n",
       "      <td>10%</td>\n",
       "      <td>3%</td>\n",
       "      <td>2%</td>\n",
       "      <td>8.5 x 0.27 x 11 inches</td>\n",
       "      <td>11.3 ounces</td>\n",
       "      <td>English</td>\n",
       "      <td>Independently published (May 23, 2022)</td>\n",
       "      <td>979-8824373264</td>\n",
       "      <td>/gp/slredirect/picassoRedirect.html/ref=pa_sp_...</td>\n",
       "      <td>https://www.amazon.com/gp/slredirect/picassoRe...</td>\n",
       "    </tr>\n",
       "    <tr>\n",
       "      <th>768</th>\n",
       "      <td>Machine Learning Design Interview: Machine Lea...</td>\n",
       "      <td>[ Khang Pham]</td>\n",
       "      <td>39.99</td>\n",
       "      <td>210</td>\n",
       "      <td>69</td>\n",
       "      <td>44%</td>\n",
       "      <td>14%</td>\n",
       "      <td>8%</td>\n",
       "      <td>9%</td>\n",
       "      <td>24%</td>\n",
       "      <td>6 x 0.48 x 9 inches</td>\n",
       "      <td>11.8 ounces</td>\n",
       "      <td>English</td>\n",
       "      <td>Independently published (April 29, 2022)</td>\n",
       "      <td>979-8813031571</td>\n",
       "      <td>/Machine-Learning-Design-Interview-System/dp/B...</td>\n",
       "      <td>https://www.amazon.com/Machine-Learning-Design...</td>\n",
       "    </tr>\n",
       "  </tbody>\n",
       "</table>\n",
       "</div>"
      ],
      "text/plain": [
       "                                                 title  \\\n",
       "792  Mastering PostgreSQL 13: Build, administer, an...   \n",
       "605  Continuous Delivery with Docker and Jenkins: C...   \n",
       "709                        Big Data Science in Finance   \n",
       "264  Excel: The Complete Illustrative Guide for Beg...   \n",
       "768  Machine Learning Design Interview: Machine Lea...   \n",
       "\n",
       "                                         author price (including used books)  \\\n",
       "792                      [ Hans-Jurgen Schonig]                        41.99   \n",
       "605                             [ Rafal Leszko]                        46.99   \n",
       "709  [ Irene Aldridge,  and , Marco Avellaneda]               67.41 - 75.83    \n",
       "264                            [ Nigel Tillery]                        18.86   \n",
       "768                               [ Khang Pham]                        39.99   \n",
       "\n",
       "    pages n_reviews star5 star4 star3 star2 star1                dimensions  \\\n",
       "792   476        38   65%   12%   12%    8%    4%  7.5 x 1.08 x 9.25 inches   \n",
       "605   350        80   60%   28%   10%    2%   NaN  7.5 x 0.79 x 9.25 inches   \n",
       "709   336        11   56%   20%   12%   12%   NaN     7.3 x 1 x 10.2 inches   \n",
       "264   119       298   66%   20%   10%    3%    2%    8.5 x 0.27 x 11 inches   \n",
       "768   210        69   44%   14%    8%    9%   24%       6 x 0.48 x 9 inches   \n",
       "\n",
       "          weight language                                          publisher  \\\n",
       "792  1.79 pounds  English  Packt Publishing; 4th ed. edition (November 13...   \n",
       "605  1.33 pounds  English       Packt Publishing; 2nd edition (May 31, 2019)   \n",
       "709  1.87 pounds  English              Wiley; 1st edition (January 27, 2021)   \n",
       "264  11.3 ounces  English             Independently published (May 23, 2022)   \n",
       "768  11.8 ounces  English           Independently published (April 29, 2022)   \n",
       "\n",
       "            ISBN_13                                               link  \\\n",
       "792                  /gp/slredirect/picassoRedirect.html/ref=pa_sp_...   \n",
       "605  978-1838552183  /gp/slredirect/picassoRedirect.html/ref=pa_sp_...   \n",
       "709                  /Data-Science-Finance-Irene-Aldridge/dp/111960...   \n",
       "264  979-8824373264  /gp/slredirect/picassoRedirect.html/ref=pa_sp_...   \n",
       "768  979-8813031571  /Machine-Learning-Design-Interview-System/dp/B...   \n",
       "\n",
       "                                         complete_link  \n",
       "792  https://www.amazon.com/gp/slredirect/picassoRe...  \n",
       "605  https://www.amazon.com/gp/slredirect/picassoRe...  \n",
       "709  https://www.amazon.com/Data-Science-Finance-Ir...  \n",
       "264  https://www.amazon.com/gp/slredirect/picassoRe...  \n",
       "768  https://www.amazon.com/Machine-Learning-Design...  "
      ]
     },
     "execution_count": 8,
     "metadata": {},
     "output_type": "execute_result"
    }
   ],
   "source": [
    "obj_variables = df.select_dtypes(object).sample(5)\n",
    "obj_variables"
   ]
  },
  {
   "cell_type": "markdown",
   "id": "90d64a6b",
   "metadata": {},
   "source": [
    "### STEPS TO TAKE"
   ]
  },
  {
   "cell_type": "markdown",
   "id": "5b62085a",
   "metadata": {},
   "source": [
    "1. Replace missing values in pages with the average and clean the column\n",
    "\n",
    "2. Rename the 'price (including used books)' column, replace NAN values with the average, and clean the column\n",
    "\n",
    "3. Remove the ' [ ' and ' ] ' and any other characters from the author column and replace the missing values\n",
    "\n",
    "4. Clean the n_reviews columns.\n",
    "\n",
    "5. Clean the star columns\n",
    "\n",
    "6. Convert the dimensions column to cm and replace null values with 0\n",
    "\n",
    "7. convert all other units of measurements in the weight column with pounds and replace null values with 0\n",
    "\n",
    "8. Split the rows in publisher column with date to another column and replace null values\n",
    "\n",
    "9. Drop unnecessary columns \n",
    "\n",
    "10. Replace missing values in other columns."
   ]
  },
  {
   "cell_type": "markdown",
   "id": "b0ec5bf2",
   "metadata": {},
   "source": [
    "### 1. Replace missing values in pages with the average and clean the column"
   ]
  },
  {
   "cell_type": "code",
   "execution_count": 9,
   "id": "50e368f1",
   "metadata": {},
   "outputs": [
    {
     "data": {
      "text/plain": [
       "276    168\n",
       "524    454\n",
       "731    316\n",
       "774    NaN\n",
       "670    360\n",
       "348    134\n",
       "398    149\n",
       "263    332\n",
       "72     129\n",
       "775    NaN\n",
       "Name: pages, dtype: object"
      ]
     },
     "execution_count": 9,
     "metadata": {},
     "output_type": "execute_result"
    }
   ],
   "source": [
    "df['pages'].sample(5)"
   ]
  },
  {
   "cell_type": "markdown",
   "id": "860f7709",
   "metadata": {},
   "source": [
    "The datatype for the pages column is object. Let's check to see why"
   ]
  },
  {
   "cell_type": "code",
   "execution_count": 10,
   "id": "841082c9",
   "metadata": {
    "scrolled": true
   },
   "outputs": [],
   "source": [
    "# df['pages'].unique()"
   ]
  },
  {
   "cell_type": "markdown",
   "id": "0e910686",
   "metadata": {},
   "source": [
    "Some values are in string format so we'll convert them to a numeric type and fill them with 0"
   ]
  },
  {
   "cell_type": "code",
   "execution_count": 11,
   "id": "c19ffbea",
   "metadata": {},
   "outputs": [
    {
     "data": {
      "text/plain": [
       "0      500\n",
       "1      484\n",
       "2      274\n",
       "3      547\n",
       "4      368\n",
       "      ... \n",
       "825    208\n",
       "826    573\n",
       "827    288\n",
       "828      0\n",
       "829      0\n",
       "Name: pages, Length: 830, dtype: int32"
      ]
     },
     "execution_count": 11,
     "metadata": {},
     "output_type": "execute_result"
    }
   ],
   "source": [
    "#Convert non-integer values to numeric\n",
    "df['pages'] = pd.to_numeric(df['pages'], errors = 'coerce').fillna(0).astype(int)\n",
    "df['pages']"
   ]
  },
  {
   "cell_type": "code",
   "execution_count": 12,
   "id": "89116fd1",
   "metadata": {},
   "outputs": [
    {
     "data": {
      "text/plain": [
       "0"
      ]
     },
     "execution_count": 12,
     "metadata": {},
     "output_type": "execute_result"
    }
   ],
   "source": [
    "#Fill missing values with 0\n",
    "df['pages'].fillna('0', inplace = True)\n",
    "df['pages'].isnull().sum()"
   ]
  },
  {
   "cell_type": "markdown",
   "id": "da44b7d6",
   "metadata": {},
   "source": [
    "### 2. Rename the 'price (including used books)' column, clean the column, and replace NAN values with the average"
   ]
  },
  {
   "cell_type": "code",
   "execution_count": 13,
   "id": "bf7b6a91",
   "metadata": {},
   "outputs": [],
   "source": [
    "df.rename(columns = {'price (including used books)':'all_prices'}, inplace = True)"
   ]
  },
  {
   "cell_type": "code",
   "execution_count": 14,
   "id": "0cd72eba",
   "metadata": {},
   "outputs": [
    {
     "data": {
      "text/plain": [
       "0                 6.75\n",
       "1       21.49 - 33.72 \n",
       "2                32.07\n",
       "3                53.99\n",
       "4                24.49\n",
       "            ...       \n",
       "825      8.55 - 35.33 \n",
       "826     52.41 - 55.18 \n",
       "827              44.99\n",
       "828                NaN\n",
       "829              38.49\n",
       "Name: all_prices, Length: 830, dtype: object"
      ]
     },
     "execution_count": 14,
     "metadata": {},
     "output_type": "execute_result"
    }
   ],
   "source": [
    "df['all_prices']"
   ]
  },
  {
   "cell_type": "markdown",
   "id": "d16f86e4",
   "metadata": {},
   "source": [
    "There are certain values in the all_prices column that reflect the costs of both new and used books. We'll calculate the average of these numbers"
   ]
  },
  {
   "cell_type": "code",
   "execution_count": 15,
   "id": "be40249f",
   "metadata": {},
   "outputs": [
    {
     "data": {
      "text/plain": [
       "0       6.750\n",
       "1      27.605\n",
       "2      32.070\n",
       "3      53.990\n",
       "4      24.490\n",
       "        ...  \n",
       "825    21.940\n",
       "826    53.795\n",
       "827    44.990\n",
       "828       NaN\n",
       "829    38.490\n",
       "Name: average_value, Length: 830, dtype: float64"
      ]
     },
     "execution_count": 15,
     "metadata": {},
     "output_type": "execute_result"
    }
   ],
   "source": [
    "# Define a function to extract the minimum and maximum values from range values and compute their average\n",
    "def price_average(val):\n",
    "    if isinstance(val, str) and '-' in val:\n",
    "        min_value, max_value = map(float, val.split('-'))\n",
    "        return (min_value + max_value) / 2\n",
    "    else:\n",
    "        try:\n",
    "            return float(val)\n",
    "        except ValueError:\n",
    "            return np.nan\n",
    "\n",
    "# Apply the function to the column and create a new column\n",
    "df['average_value'] = df['all_prices'].apply(price_average)\n",
    "\n",
    "# Print the updated dataframe\n",
    "df['average_value'] \n"
   ]
  },
  {
   "cell_type": "code",
   "execution_count": 16,
   "id": "64ad535d",
   "metadata": {},
   "outputs": [],
   "source": [
    "df['average_value'].fillna(df['average_value'].mean(), inplace = True)"
   ]
  },
  {
   "cell_type": "code",
   "execution_count": 17,
   "id": "793ff246",
   "metadata": {},
   "outputs": [
    {
     "data": {
      "text/plain": [
       "0       6.75\n",
       "1      27.60\n",
       "2      32.07\n",
       "3      53.99\n",
       "4      24.49\n",
       "       ...  \n",
       "825    21.94\n",
       "826    53.80\n",
       "827    44.99\n",
       "828    43.06\n",
       "829    38.49\n",
       "Name: average_value, Length: 830, dtype: float64"
      ]
     },
     "execution_count": 17,
     "metadata": {},
     "output_type": "execute_result"
    }
   ],
   "source": [
    "#Round to 2 decimal places\n",
    "np.round(df['average_value'], decimals=2)"
   ]
  },
  {
   "cell_type": "markdown",
   "id": "cc141a43",
   "metadata": {},
   "source": [
    "### 3. Remove the ' [ ' and ' ] ' and any other characters from the author column and replace the missing values"
   ]
  },
  {
   "cell_type": "code",
   "execution_count": 19,
   "id": "7447e4b5",
   "metadata": {
    "scrolled": false
   },
   "outputs": [
    {
     "data": {
      "text/plain": [
       "14                          [ Ekaterina Kochmar]\n",
       "167                                          NaN\n",
       "678                                          NaN\n",
       "30                               [ Jonelle Hoop]\n",
       "648        [ Jike Chong,  and , Yue Cathy Chang]\n",
       "364           [ Gábor Békés,  and , Gábor Kézdi]\n",
       "386                                          NaN\n",
       "259    [ Rick J. Scavetta,  and , Boyan Angelov]\n",
       "652                        [ Jonathan Schwabish]\n",
       "332                   [ Cole Nussbaumer Knaflic]\n",
       "Name: author, dtype: object"
      ]
     },
     "execution_count": 19,
     "metadata": {},
     "output_type": "execute_result"
    }
   ],
   "source": [
    "df['author'].sample(10)"
   ]
  },
  {
   "cell_type": "code",
   "execution_count": 26,
   "id": "d760ea87",
   "metadata": {},
   "outputs": [],
   "source": [
    "def author_col(x):\n",
    "    if x == x:\n",
    "        return x.lstrip('[ ').rstrip(']').replace(',  and ,', ' and')\n",
    "    else:\n",
    "        return x\n",
    "    \n",
    "df['author'] = df['author'].apply(author_col)"
   ]
  },
  {
   "cell_type": "code",
   "execution_count": 23,
   "id": "ee410d86",
   "metadata": {
    "scrolled": true
   },
   "outputs": [
    {
     "data": {
      "text/plain": [
       "227                    Joel Lawhead\n",
       "671                       Dr. Briit\n",
       "681                    Alex Gorelik\n",
       "1                               NaN\n",
       "190    Áine Humble and Elise Radina\n",
       "Name: author, dtype: object"
      ]
     },
     "execution_count": 23,
     "metadata": {},
     "output_type": "execute_result"
    }
   ],
   "source": [
    "df['author'].sample(5)"
   ]
  },
  {
   "cell_type": "code",
   "execution_count": 24,
   "id": "8542fe3e",
   "metadata": {},
   "outputs": [],
   "source": [
    "df['author'].fillna('No Name', inplace = True)"
   ]
  },
  {
   "cell_type": "markdown",
   "id": "acd04df1",
   "metadata": {},
   "source": [
    "### 4. Clean the n_reviews column"
   ]
  },
  {
   "cell_type": "code",
   "execution_count": 28,
   "id": "78358089",
   "metadata": {
    "scrolled": true
   },
   "outputs": [
    {
     "data": {
      "text/plain": [
       "654    1,001\n",
       "714       39\n",
       "414      932\n",
       "735      NaN\n",
       "538      180\n",
       "481        2\n",
       "423        6\n",
       "125       46\n",
       "234      116\n",
       "606      NaN\n",
       "Name: n_reviews, dtype: object"
      ]
     },
     "execution_count": 28,
     "metadata": {},
     "output_type": "execute_result"
    }
   ],
   "source": [
    "df['n_reviews'].sample(10)"
   ]
  },
  {
   "cell_type": "markdown",
   "id": "534c46ca",
   "metadata": {},
   "source": [
    "All values in thousands have a comma. We'll remove the commas to make them integer values."
   ]
  },
  {
   "cell_type": "code",
   "execution_count": 30,
   "id": "caf57a66",
   "metadata": {},
   "outputs": [],
   "source": [
    "# replace commas in string values and leave NaN values as is\n",
    "df['n_reviews'] = df['n_reviews'].apply(lambda x: str(x).replace(',', '') if type(x)==str else x)"
   ]
  },
  {
   "cell_type": "code",
   "execution_count": 31,
   "id": "39f897e9",
   "metadata": {
    "scrolled": true
   },
   "outputs": [
    {
     "data": {
      "text/plain": [
       "0        23\n",
       "1       124\n",
       "2        10\n",
       "3      1686\n",
       "4        12\n",
       "       ... \n",
       "825      74\n",
       "826      93\n",
       "827       8\n",
       "828       0\n",
       "829     142\n",
       "Name: n_reviews, Length: 830, dtype: int32"
      ]
     },
     "execution_count": 31,
     "metadata": {},
     "output_type": "execute_result"
    }
   ],
   "source": [
    "#Convert to integer data type and replace null values with 0\n",
    "df['n_reviews'] = pd.to_numeric(df['n_reviews'], errors = 'coerce').fillna(0).astype(int)\n",
    "df['n_reviews']"
   ]
  },
  {
   "cell_type": "markdown",
   "id": "0809313f",
   "metadata": {},
   "source": [
    "### 5. Clean the star column"
   ]
  },
  {
   "cell_type": "markdown",
   "id": "b99a2d7d",
   "metadata": {},
   "source": [
    "Fill the null values in star columns with 0 "
   ]
  },
  {
   "cell_type": "code",
   "execution_count": 32,
   "id": "ce72c40c",
   "metadata": {},
   "outputs": [],
   "source": [
    "df['star5'].fillna('0', inplace = True)\n",
    "df['star4'].fillna('0', inplace = True)\n",
    "df['star3'].fillna('0', inplace = True)\n",
    "df['star2'].fillna('0', inplace = True)\n",
    "df['star1'].fillna('0', inplace = True)"
   ]
  },
  {
   "cell_type": "code",
   "execution_count": 33,
   "id": "7e5c9687",
   "metadata": {},
   "outputs": [
    {
     "data": {
      "text/html": [
       "<div>\n",
       "<style scoped>\n",
       "    .dataframe tbody tr th:only-of-type {\n",
       "        vertical-align: middle;\n",
       "    }\n",
       "\n",
       "    .dataframe tbody tr th {\n",
       "        vertical-align: top;\n",
       "    }\n",
       "\n",
       "    .dataframe thead th {\n",
       "        text-align: right;\n",
       "    }\n",
       "</style>\n",
       "<table border=\"1\" class=\"dataframe\">\n",
       "  <thead>\n",
       "    <tr style=\"text-align: right;\">\n",
       "      <th></th>\n",
       "      <th>star5</th>\n",
       "      <th>star4</th>\n",
       "      <th>star3</th>\n",
       "      <th>star2</th>\n",
       "      <th>star1</th>\n",
       "    </tr>\n",
       "  </thead>\n",
       "  <tbody>\n",
       "    <tr>\n",
       "      <th>0</th>\n",
       "      <td>55%</td>\n",
       "      <td>39%</td>\n",
       "      <td>6%</td>\n",
       "      <td>0</td>\n",
       "      <td>0</td>\n",
       "    </tr>\n",
       "    <tr>\n",
       "      <th>1</th>\n",
       "      <td>61%</td>\n",
       "      <td>20%</td>\n",
       "      <td>9%</td>\n",
       "      <td>4%</td>\n",
       "      <td>6%</td>\n",
       "    </tr>\n",
       "    <tr>\n",
       "      <th>2</th>\n",
       "      <td>87%</td>\n",
       "      <td>13%</td>\n",
       "      <td>0</td>\n",
       "      <td>0</td>\n",
       "      <td>0</td>\n",
       "    </tr>\n",
       "    <tr>\n",
       "      <th>3</th>\n",
       "      <td>75%</td>\n",
       "      <td>16%</td>\n",
       "      <td>5%</td>\n",
       "      <td>2%</td>\n",
       "      <td>2%</td>\n",
       "    </tr>\n",
       "    <tr>\n",
       "      <th>4</th>\n",
       "      <td>52%</td>\n",
       "      <td>17%</td>\n",
       "      <td>10%</td>\n",
       "      <td>10%</td>\n",
       "      <td>10%</td>\n",
       "    </tr>\n",
       "    <tr>\n",
       "      <th>...</th>\n",
       "      <td>...</td>\n",
       "      <td>...</td>\n",
       "      <td>...</td>\n",
       "      <td>...</td>\n",
       "      <td>...</td>\n",
       "    </tr>\n",
       "    <tr>\n",
       "      <th>825</th>\n",
       "      <td>72%</td>\n",
       "      <td>14%</td>\n",
       "      <td>7%</td>\n",
       "      <td>2%</td>\n",
       "      <td>4%</td>\n",
       "    </tr>\n",
       "    <tr>\n",
       "      <th>826</th>\n",
       "      <td>78%</td>\n",
       "      <td>7%</td>\n",
       "      <td>7%</td>\n",
       "      <td>4%</td>\n",
       "      <td>4%</td>\n",
       "    </tr>\n",
       "    <tr>\n",
       "      <th>827</th>\n",
       "      <td>83%</td>\n",
       "      <td>17%</td>\n",
       "      <td>0</td>\n",
       "      <td>0</td>\n",
       "      <td>0</td>\n",
       "    </tr>\n",
       "    <tr>\n",
       "      <th>828</th>\n",
       "      <td>0</td>\n",
       "      <td>0</td>\n",
       "      <td>0</td>\n",
       "      <td>0</td>\n",
       "      <td>0</td>\n",
       "    </tr>\n",
       "    <tr>\n",
       "      <th>829</th>\n",
       "      <td>79%</td>\n",
       "      <td>15%</td>\n",
       "      <td>4%</td>\n",
       "      <td>1%</td>\n",
       "      <td>1%</td>\n",
       "    </tr>\n",
       "  </tbody>\n",
       "</table>\n",
       "<p>830 rows × 5 columns</p>\n",
       "</div>"
      ],
      "text/plain": [
       "    star5 star4 star3 star2 star1\n",
       "0     55%   39%    6%     0     0\n",
       "1     61%   20%    9%    4%    6%\n",
       "2     87%   13%     0     0     0\n",
       "3     75%   16%    5%    2%    2%\n",
       "4     52%   17%   10%   10%   10%\n",
       "..    ...   ...   ...   ...   ...\n",
       "825   72%   14%    7%    2%    4%\n",
       "826   78%    7%    7%    4%    4%\n",
       "827   83%   17%     0     0     0\n",
       "828     0     0     0     0     0\n",
       "829   79%   15%    4%    1%    1%\n",
       "\n",
       "[830 rows x 5 columns]"
      ]
     },
     "execution_count": 33,
     "metadata": {},
     "output_type": "execute_result"
    }
   ],
   "source": [
    "df[['star5', 'star4', 'star3', 'star2', 'star1']]"
   ]
  },
  {
   "cell_type": "code",
   "execution_count": 34,
   "id": "6a9b34e4",
   "metadata": {},
   "outputs": [],
   "source": [
    "#remove the percentage sign from the columns and convert it to a float, dividing by 100.\n",
    "def strip_and_convert_to_float(df, column_name):\n",
    "    df[column_name] = df[column_name].str.rstrip('%').astype(float) / 100\n",
    "\n",
    "strip_and_convert_to_float(df, 'star5')\n",
    "strip_and_convert_to_float(df, 'star4')\n",
    "strip_and_convert_to_float(df, 'star3')\n",
    "strip_and_convert_to_float(df, 'star2')\n",
    "strip_and_convert_to_float(df, 'star1')\n"
   ]
  },
  {
   "cell_type": "code",
   "execution_count": 35,
   "id": "84a7a308",
   "metadata": {},
   "outputs": [
    {
     "data": {
      "text/html": [
       "<div>\n",
       "<style scoped>\n",
       "    .dataframe tbody tr th:only-of-type {\n",
       "        vertical-align: middle;\n",
       "    }\n",
       "\n",
       "    .dataframe tbody tr th {\n",
       "        vertical-align: top;\n",
       "    }\n",
       "\n",
       "    .dataframe thead th {\n",
       "        text-align: right;\n",
       "    }\n",
       "</style>\n",
       "<table border=\"1\" class=\"dataframe\">\n",
       "  <thead>\n",
       "    <tr style=\"text-align: right;\">\n",
       "      <th></th>\n",
       "      <th>star5</th>\n",
       "      <th>star4</th>\n",
       "      <th>star3</th>\n",
       "      <th>star2</th>\n",
       "      <th>star1</th>\n",
       "    </tr>\n",
       "  </thead>\n",
       "  <tbody>\n",
       "    <tr>\n",
       "      <th>0</th>\n",
       "      <td>0.55</td>\n",
       "      <td>0.39</td>\n",
       "      <td>0.06</td>\n",
       "      <td>0.00</td>\n",
       "      <td>0.00</td>\n",
       "    </tr>\n",
       "    <tr>\n",
       "      <th>1</th>\n",
       "      <td>0.61</td>\n",
       "      <td>0.20</td>\n",
       "      <td>0.09</td>\n",
       "      <td>0.04</td>\n",
       "      <td>0.06</td>\n",
       "    </tr>\n",
       "    <tr>\n",
       "      <th>2</th>\n",
       "      <td>0.87</td>\n",
       "      <td>0.13</td>\n",
       "      <td>0.00</td>\n",
       "      <td>0.00</td>\n",
       "      <td>0.00</td>\n",
       "    </tr>\n",
       "    <tr>\n",
       "      <th>3</th>\n",
       "      <td>0.75</td>\n",
       "      <td>0.16</td>\n",
       "      <td>0.05</td>\n",
       "      <td>0.02</td>\n",
       "      <td>0.02</td>\n",
       "    </tr>\n",
       "    <tr>\n",
       "      <th>4</th>\n",
       "      <td>0.52</td>\n",
       "      <td>0.17</td>\n",
       "      <td>0.10</td>\n",
       "      <td>0.10</td>\n",
       "      <td>0.10</td>\n",
       "    </tr>\n",
       "    <tr>\n",
       "      <th>...</th>\n",
       "      <td>...</td>\n",
       "      <td>...</td>\n",
       "      <td>...</td>\n",
       "      <td>...</td>\n",
       "      <td>...</td>\n",
       "    </tr>\n",
       "    <tr>\n",
       "      <th>825</th>\n",
       "      <td>0.72</td>\n",
       "      <td>0.14</td>\n",
       "      <td>0.07</td>\n",
       "      <td>0.02</td>\n",
       "      <td>0.04</td>\n",
       "    </tr>\n",
       "    <tr>\n",
       "      <th>826</th>\n",
       "      <td>0.78</td>\n",
       "      <td>0.07</td>\n",
       "      <td>0.07</td>\n",
       "      <td>0.04</td>\n",
       "      <td>0.04</td>\n",
       "    </tr>\n",
       "    <tr>\n",
       "      <th>827</th>\n",
       "      <td>0.83</td>\n",
       "      <td>0.17</td>\n",
       "      <td>0.00</td>\n",
       "      <td>0.00</td>\n",
       "      <td>0.00</td>\n",
       "    </tr>\n",
       "    <tr>\n",
       "      <th>828</th>\n",
       "      <td>0.00</td>\n",
       "      <td>0.00</td>\n",
       "      <td>0.00</td>\n",
       "      <td>0.00</td>\n",
       "      <td>0.00</td>\n",
       "    </tr>\n",
       "    <tr>\n",
       "      <th>829</th>\n",
       "      <td>0.79</td>\n",
       "      <td>0.15</td>\n",
       "      <td>0.04</td>\n",
       "      <td>0.01</td>\n",
       "      <td>0.01</td>\n",
       "    </tr>\n",
       "  </tbody>\n",
       "</table>\n",
       "<p>830 rows × 5 columns</p>\n",
       "</div>"
      ],
      "text/plain": [
       "     star5  star4  star3  star2  star1\n",
       "0     0.55   0.39   0.06   0.00   0.00\n",
       "1     0.61   0.20   0.09   0.04   0.06\n",
       "2     0.87   0.13   0.00   0.00   0.00\n",
       "3     0.75   0.16   0.05   0.02   0.02\n",
       "4     0.52   0.17   0.10   0.10   0.10\n",
       "..     ...    ...    ...    ...    ...\n",
       "825   0.72   0.14   0.07   0.02   0.04\n",
       "826   0.78   0.07   0.07   0.04   0.04\n",
       "827   0.83   0.17   0.00   0.00   0.00\n",
       "828   0.00   0.00   0.00   0.00   0.00\n",
       "829   0.79   0.15   0.04   0.01   0.01\n",
       "\n",
       "[830 rows x 5 columns]"
      ]
     },
     "execution_count": 35,
     "metadata": {},
     "output_type": "execute_result"
    }
   ],
   "source": [
    "df[['star5', 'star4', 'star3', 'star2', 'star1']]"
   ]
  },
  {
   "cell_type": "markdown",
   "id": "0d3b06b2",
   "metadata": {},
   "source": [
    "### 6. Convert the dimensions column to cm and replace null values with 0"
   ]
  },
  {
   "cell_type": "code",
   "execution_count": 37,
   "id": "794a27a1",
   "metadata": {},
   "outputs": [
    {
     "data": {
      "text/plain": [
       "369      9.17 x 1.42 x 7.6 inches\n",
       "426    8.25 x 1.25 x 10.25 inches\n",
       "577           6 x 0.55 x 9 inches\n",
       "736      7.5 x 1.21 x 9.25 inches\n",
       "649           7 x 1 x 9.25 inches\n",
       "Name: dimensions, dtype: object"
      ]
     },
     "execution_count": 37,
     "metadata": {},
     "output_type": "execute_result"
    }
   ],
   "source": [
    "df['dimensions'].sample(5)"
   ]
  },
  {
   "cell_type": "code",
   "execution_count": 39,
   "id": "d38f5085",
   "metadata": {},
   "outputs": [
    {
     "data": {
      "text/plain": [
       "700    7.38 x 1.2 x 9.25 \n",
       "264      8.5 x 0.27 x 11 \n",
       "738                   NaN\n",
       "455      8.5 x 0.78 x 11 \n",
       "43     7.5 x 1.42 x 9.25 \n",
       "Name: dimensions, dtype: object"
      ]
     },
     "execution_count": 39,
     "metadata": {},
     "output_type": "execute_result"
    }
   ],
   "source": [
    "#Remove the inches unit of measurement\n",
    "df['dimensions'] = df['dimensions'].str.rstrip('inches')\n",
    "df['dimensions'].sample(5)"
   ]
  },
  {
   "cell_type": "code",
   "execution_count": 40,
   "id": "e914340c",
   "metadata": {},
   "outputs": [
    {
     "data": {
      "text/plain": [
       "0      94.44\n",
       "1      72.52\n",
       "2      53.21\n",
       "3      71.41\n",
       "4      56.66\n",
       "       ...  \n",
       "825    32.90\n",
       "826    70.69\n",
       "827    45.09\n",
       "828      NaN\n",
       "829      NaN\n",
       "Name: dimensions(cm), Length: 830, dtype: float64"
      ]
     },
     "execution_count": 40,
     "metadata": {},
     "output_type": "execute_result"
    }
   ],
   "source": [
    "# Define a function to convert inches to cm\n",
    "def inch_to_cm(x):\n",
    "    try:\n",
    "        x = str(x)\n",
    "        if 'x' in x:\n",
    "            nums = [float(num.strip()) * 2.54 for num in x.split('x')]\n",
    "            if len(nums) == 3:\n",
    "                volume = nums[0] * nums[1] * nums[2] / 16.387\n",
    "                return round(volume, 2)\n",
    "            else:\n",
    "                return sum(nums)\n",
    "        else:\n",
    "            return float(x) * 2.54\n",
    "    except:\n",
    "        return None\n",
    "\n",
    "# Create a new column with the converted values\n",
    "df['dimensions(cm)'] = df['dimensions'].apply(inch_to_cm)\n",
    "\n",
    "df['dimensions(cm)']\n"
   ]
  },
  {
   "cell_type": "code",
   "execution_count": 42,
   "id": "22974fb1",
   "metadata": {},
   "outputs": [],
   "source": [
    "df['dimensions(cm)'] = pd.to_numeric(df['dimensions(cm)'], errors = 'coerce').fillna(0).astype(float)"
   ]
  },
  {
   "cell_type": "markdown",
   "id": "72ce1b52",
   "metadata": {},
   "source": [
    "### 7. convert all other units of measurements in the weight column with pounds and replace null values with 0"
   ]
  },
  {
   "cell_type": "code",
   "execution_count": 43,
   "id": "98cb1370",
   "metadata": {},
   "outputs": [],
   "source": [
    "#df['weight'].unique()"
   ]
  },
  {
   "cell_type": "code",
   "execution_count": 44,
   "id": "0ee9c0ff",
   "metadata": {},
   "outputs": [
    {
     "data": {
      "text/plain": [
       "0         2.53\n",
       "1         1.96\n",
       "2          1.4\n",
       "3         1.47\n",
       "4          1.3\n",
       "        ...   \n",
       "825    0.96875\n",
       "826       2.25\n",
       "827        1.1\n",
       "828        NaN\n",
       "829        NaN\n",
       "Name: weight, Length: 830, dtype: object"
      ]
     },
     "execution_count": 44,
     "metadata": {},
     "output_type": "execute_result"
    }
   ],
   "source": [
    "# define a function to convert ounces to pounds\n",
    "def convert_to_pounds(val):\n",
    "    if isinstance(val, str) and 'ounces' in val:\n",
    "        ounces = float(val.split()[0])\n",
    "        return ounces / 16\n",
    "    elif isinstance(val, str) and 'pounds' in val:\n",
    "            pounds = float(val.split()[0])\n",
    "            return pounds\n",
    "    else:\n",
    "        return val\n",
    "\n",
    "# apply the function to the 'Weight' column\n",
    "df['weight'] = df['weight'].apply(convert_to_pounds)\n",
    "\n",
    "df['weight']\n"
   ]
  },
  {
   "cell_type": "code",
   "execution_count": 45,
   "id": "cf390db4",
   "metadata": {},
   "outputs": [],
   "source": [
    "#Convert the column to numeric type and fill null values with 0.\n",
    "df['weight'] = pd.to_numeric(df['weight'], errors = 'coerce').fillna(0).astype(float)"
   ]
  },
  {
   "cell_type": "code",
   "execution_count": 46,
   "id": "c329c3b2",
   "metadata": {},
   "outputs": [
    {
     "data": {
      "text/plain": [
       "0      2.53\n",
       "1      1.96\n",
       "2      1.40\n",
       "3      1.47\n",
       "4      1.30\n",
       "       ... \n",
       "825    0.97\n",
       "826    2.25\n",
       "827    1.10\n",
       "828    0.00\n",
       "829    0.00\n",
       "Name: weight, Length: 830, dtype: float64"
      ]
     },
     "execution_count": 46,
     "metadata": {},
     "output_type": "execute_result"
    }
   ],
   "source": [
    "#Round to 2 decimal places\n",
    "np.round(df['weight'], decimals=2)"
   ]
  },
  {
   "cell_type": "markdown",
   "id": "741de164",
   "metadata": {},
   "source": [
    "### 8. Split the rows in publisher column with date to another column and replace null values"
   ]
  },
  {
   "cell_type": "code",
   "execution_count": 47,
   "id": "86336790",
   "metadata": {},
   "outputs": [
    {
     "data": {
      "text/plain": [
       "38        Mike Murach & Associates Inc (August 30, 2021)\n",
       "818                                                  NaN\n",
       "770                           Code Energy (July 2, 2021)\n",
       "361                  Packt Publishing (January 20, 2022)\n",
       "744    Auerbach Publications; 1st edition (May 13, 2022)\n",
       "Name: publisher, dtype: object"
      ]
     },
     "execution_count": 47,
     "metadata": {},
     "output_type": "execute_result"
    }
   ],
   "source": [
    "df['publisher'].sample(5)"
   ]
  },
  {
   "cell_type": "code",
   "execution_count": 48,
   "id": "9a3322ce",
   "metadata": {},
   "outputs": [
    {
     "data": {
      "text/plain": [
       "0     2021-11-22\n",
       "1     2009-08-18\n",
       "2     2022-08-01\n",
       "3     2017-11-14\n",
       "4     2022-02-03\n",
       "         ...    \n",
       "825   2017-12-15\n",
       "826   2020-07-02\n",
       "827   2022-07-08\n",
       "828          NaT\n",
       "829          NaT\n",
       "Name: Publication Date, Length: 830, dtype: datetime64[ns]"
      ]
     },
     "execution_count": 48,
     "metadata": {},
     "output_type": "execute_result"
    }
   ],
   "source": [
    "# Split the \"Publisher\" column by the first opening parenthesis\n",
    "df[['Publisher', 'Publication Date']] = df['publisher'].str.split('(', 1, expand=True)\n",
    "\n",
    "# Extract the date and remove the closing parenthesis\n",
    "df['Publication Date'] = df['Publication Date'].str.rstrip(')')\n",
    "\n",
    "# convert Publication Date column to datetime format\n",
    "df['Publication Date'] = pd.to_datetime(df['Publication Date'], errors='coerce')\n",
    "\n",
    "df['Publication Date']"
   ]
  },
  {
   "cell_type": "code",
   "execution_count": 49,
   "id": "0b12a3bb",
   "metadata": {},
   "outputs": [
    {
     "data": {
      "text/plain": [
       "0            Notion Press Media Pvt Ltd \n",
       "1           O'Reilly Media; 1st edition \n",
       "2      Holy Macro! Books; Third edition \n",
       "3           O'Reilly Media; 2nd edition \n",
       "4              For Dummies; 5th edition \n",
       "                     ...                \n",
       "825               Corwin; First edition \n",
       "826      Springer; 1st ed. 2020 edition \n",
       "827                    Packt Publishing \n",
       "828                              No Name\n",
       "829                              No Name\n",
       "Name: Publisher, Length: 830, dtype: object"
      ]
     },
     "execution_count": 49,
     "metadata": {},
     "output_type": "execute_result"
    }
   ],
   "source": [
    "#Replace null values in publisher with 'No Name'\n",
    "df['Publisher'].fillna('No Name', inplace = True)\n",
    "df['Publisher']"
   ]
  },
  {
   "cell_type": "markdown",
   "id": "c62456e7",
   "metadata": {},
   "source": [
    "### 9. Drop unnecessary columns"
   ]
  },
  {
   "cell_type": "code",
   "execution_count": 50,
   "id": "3684cb24",
   "metadata": {},
   "outputs": [],
   "source": [
    "df.drop(['ISBN_13', 'link', 'complete_link', 'publisher', 'dimensions', 'all_prices'], axis = 1, inplace = True)"
   ]
  },
  {
   "cell_type": "code",
   "execution_count": 51,
   "id": "95901c75",
   "metadata": {
    "scrolled": true
   },
   "outputs": [
    {
     "data": {
      "text/html": [
       "<div>\n",
       "<style scoped>\n",
       "    .dataframe tbody tr th:only-of-type {\n",
       "        vertical-align: middle;\n",
       "    }\n",
       "\n",
       "    .dataframe tbody tr th {\n",
       "        vertical-align: top;\n",
       "    }\n",
       "\n",
       "    .dataframe thead th {\n",
       "        text-align: right;\n",
       "    }\n",
       "</style>\n",
       "<table border=\"1\" class=\"dataframe\">\n",
       "  <thead>\n",
       "    <tr style=\"text-align: right;\">\n",
       "      <th></th>\n",
       "      <th>title</th>\n",
       "      <th>author</th>\n",
       "      <th>language</th>\n",
       "      <th>Publisher</th>\n",
       "    </tr>\n",
       "  </thead>\n",
       "  <tbody>\n",
       "    <tr>\n",
       "      <th>36</th>\n",
       "      <td>Python for Data Science: A Hands-On Introduction</td>\n",
       "      <td>Yuli Vasiliev</td>\n",
       "      <td>English</td>\n",
       "      <td>No Starch Press</td>\n",
       "    </tr>\n",
       "    <tr>\n",
       "      <th>758</th>\n",
       "      <td>MongoDB Fundamentals: A hands-on guide to usin...</td>\n",
       "      <td>Amit Phaltankar, Juned Ahsan, et al.</td>\n",
       "      <td>English</td>\n",
       "      <td>Packt Publishing</td>\n",
       "    </tr>\n",
       "    <tr>\n",
       "      <th>590</th>\n",
       "      <td>Learn to Code by Solving Problems: A Python Pr...</td>\n",
       "      <td>Daniel Zingaro</td>\n",
       "      <td>English</td>\n",
       "      <td>No Starch Press</td>\n",
       "    </tr>\n",
       "    <tr>\n",
       "      <th>747</th>\n",
       "      <td>Grokking Algorithms: An Illustrated Guide for ...</td>\n",
       "      <td>Aditya Bhargava</td>\n",
       "      <td>English</td>\n",
       "      <td>Manning; 1st edition</td>\n",
       "    </tr>\n",
       "    <tr>\n",
       "      <th>617</th>\n",
       "      <td>Python for Tweens and Teens - 2nd Edition (Bla...</td>\n",
       "      <td>Aristides Bouras</td>\n",
       "      <td>English</td>\n",
       "      <td>Independently published</td>\n",
       "    </tr>\n",
       "  </tbody>\n",
       "</table>\n",
       "</div>"
      ],
      "text/plain": [
       "                                                 title  \\\n",
       "36    Python for Data Science: A Hands-On Introduction   \n",
       "758  MongoDB Fundamentals: A hands-on guide to usin...   \n",
       "590  Learn to Code by Solving Problems: A Python Pr...   \n",
       "747  Grokking Algorithms: An Illustrated Guide for ...   \n",
       "617  Python for Tweens and Teens - 2nd Edition (Bla...   \n",
       "\n",
       "                                   author language                 Publisher  \n",
       "36                          Yuli Vasiliev  English          No Starch Press   \n",
       "758  Amit Phaltankar, Juned Ahsan, et al.  English         Packt Publishing   \n",
       "590                        Daniel Zingaro  English          No Starch Press   \n",
       "747                       Aditya Bhargava  English     Manning; 1st edition   \n",
       "617                      Aristides Bouras  English  Independently published   "
      ]
     },
     "execution_count": 51,
     "metadata": {},
     "output_type": "execute_result"
    }
   ],
   "source": [
    "obj_var = df.select_dtypes(object).sample(5)\n",
    "obj_var"
   ]
  },
  {
   "cell_type": "code",
   "execution_count": 52,
   "id": "5e96afb2",
   "metadata": {},
   "outputs": [
    {
     "data": {
      "text/plain": [
       "title                 0\n",
       "author                0\n",
       "price               108\n",
       "pages                 0\n",
       "avg_reviews         128\n",
       "n_reviews             0\n",
       "star5                 0\n",
       "star4                 0\n",
       "star3                 0\n",
       "star2                 0\n",
       "star1                 0\n",
       "weight                0\n",
       "language             71\n",
       "average_value         0\n",
       "dimensions(cm)        0\n",
       "Publisher             0\n",
       "Publication Date    119\n",
       "dtype: int64"
      ]
     },
     "execution_count": 52,
     "metadata": {},
     "output_type": "execute_result"
    }
   ],
   "source": [
    "df.isnull().sum()"
   ]
  },
  {
   "cell_type": "markdown",
   "id": "1d4629dc",
   "metadata": {},
   "source": [
    "### 10. Replace Missing values"
   ]
  },
  {
   "cell_type": "code",
   "execution_count": 53,
   "id": "70e410fb",
   "metadata": {},
   "outputs": [],
   "source": [
    "#Fill missing values appropriately\n",
    "df['avg_reviews'].fillna(df['avg_reviews'].mean(), inplace = True)\n",
    "df['price'].fillna('0', inplace = True)\n",
    "df['language'].fillna('No Language', inplace = True)"
   ]
  }
 ],
 "metadata": {
  "kernelspec": {
   "display_name": "Python 3 (ipykernel)",
   "language": "python",
   "name": "python3"
  },
  "language_info": {
   "codemirror_mode": {
    "name": "ipython",
    "version": 3
   },
   "file_extension": ".py",
   "mimetype": "text/x-python",
   "name": "python",
   "nbconvert_exporter": "python",
   "pygments_lexer": "ipython3",
   "version": "3.9.12"
  }
 },
 "nbformat": 4,
 "nbformat_minor": 5
}
